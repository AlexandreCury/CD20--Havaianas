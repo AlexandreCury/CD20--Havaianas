{
 "cells": [
  {
   "cell_type": "markdown",
   "metadata": {},
   "source": [
    "# Projeto 1 - Ciência dos Dados"
   ]
  },
  {
   "cell_type": "markdown",
   "metadata": {},
   "source": [
    "Lucas Ohara\n",
    "\n",
    "Alexandre Cury"
   ]
  },
  {
   "cell_type": "markdown",
   "metadata": {},
   "source": [
    "Atenção: Serão permitidos grupos de três pessoas, mas com uma rubrica mais exigente. Grupos deste tamanho precisarão fazer um questionário de avaliação de trabalho em equipe"
   ]
  },
  {
   "cell_type": "markdown",
   "metadata": {},
   "source": [
    "___\n",
    "Carregando algumas bibliotecas:"
   ]
  },
  {
   "cell_type": "code",
   "execution_count": 285,
   "metadata": {},
   "outputs": [],
   "source": [
    "%matplotlib inline\n",
    "import pandas as pd\n",
    "import matplotlib.pyplot as plt\n",
    "import numpy as np\n",
    "import os\n",
    "#importando bibliotecas"
   ]
  },
  {
   "cell_type": "code",
   "execution_count": 286,
   "metadata": {},
   "outputs": [],
   "source": [
    "from emoji import UNICODE_EMOJI\n",
    "import emoji_list\n",
    "#importando bibliotecas de emoji. Foi necessário instalar via pip install"
   ]
  },
  {
   "cell_type": "code",
   "execution_count": 287,
   "metadata": {
    "scrolled": false
   },
   "outputs": [
    {
     "name": "stdout",
     "output_type": "stream",
     "text": [
      "Esperamos trabalhar no diretório\n",
      "C:\\Users\\lucas\\Downloads\n"
     ]
    }
   ],
   "source": [
    "print('Esperamos trabalhar no diretório')\n",
    "print(os.getcwd())"
   ]
  },
  {
   "cell_type": "markdown",
   "metadata": {},
   "source": [
    "Carregando a base de dados com os tweets classificados como relevantes positivos/negativos e não relevantes:"
   ]
  },
  {
   "cell_type": "code",
   "execution_count": 288,
   "metadata": {},
   "outputs": [],
   "source": [
    "Trainer = pd.read_excel('Havaiana.xlsx', 'Treinamento')\n",
    "Test = pd.read_excel('Havaiana.xlsx', 'Teste')\n",
    "#lendo o database recolhido"
   ]
  },
  {
   "cell_type": "code",
   "execution_count": 289,
   "metadata": {},
   "outputs": [
    {
     "data": {
      "text/html": [
       "<div>\n",
       "<style scoped>\n",
       "    .dataframe tbody tr th:only-of-type {\n",
       "        vertical-align: middle;\n",
       "    }\n",
       "\n",
       "    .dataframe tbody tr th {\n",
       "        vertical-align: top;\n",
       "    }\n",
       "\n",
       "    .dataframe thead th {\n",
       "        text-align: right;\n",
       "    }\n",
       "</style>\n",
       "<table border=\"1\" class=\"dataframe\">\n",
       "  <thead>\n",
       "    <tr style=\"text-align: right;\">\n",
       "      <th></th>\n",
       "      <th>Treinamento</th>\n",
       "      <th>Avaliacao</th>\n",
       "    </tr>\n",
       "  </thead>\n",
       "  <tbody>\n",
       "    <tr>\n",
       "      <th>0</th>\n",
       "      <td>@_satanislaw mds, pois tu deu sorte, ou entao ...</td>\n",
       "      <td>2</td>\n",
       "    </tr>\n",
       "    <tr>\n",
       "      <th>1</th>\n",
       "      <td>queriaaaaaaaa comida havaiana meu deus vi uma ...</td>\n",
       "      <td>0</td>\n",
       "    </tr>\n",
       "    <tr>\n",
       "      <th>2</th>\n",
       "      <td>minha tia comprou uma havaiana de glitter pra ...</td>\n",
       "      <td>1</td>\n",
       "    </tr>\n",
       "    <tr>\n",
       "      <th>3</th>\n",
       "      <td>professor doido!!! amei \\nbrotou com camisa ha...</td>\n",
       "      <td>0</td>\n",
       "    </tr>\n",
       "    <tr>\n",
       "      <th>4</th>\n",
       "      <td>me ajudem a comprar uma havaiana nova lsksk ht...</td>\n",
       "      <td>1</td>\n",
       "    </tr>\n",
       "    <tr>\n",
       "      <th>5</th>\n",
       "      <td>fui no mercado comprar uma havaiana para mim, ...</td>\n",
       "      <td>1</td>\n",
       "    </tr>\n",
       "    <tr>\n",
       "      <th>6</th>\n",
       "      <td>n posso ver uma havaiana nova q eu quero comprar</td>\n",
       "      <td>1</td>\n",
       "    </tr>\n",
       "    <tr>\n",
       "      <th>7</th>\n",
       "      <td>rt @juuhbonfim_: eu não tô de havaiana na bala...</td>\n",
       "      <td>1</td>\n",
       "    </tr>\n",
       "    <tr>\n",
       "      <th>8</th>\n",
       "      <td>acho que minha filha jogou no lixo a havaiana ...</td>\n",
       "      <td>2</td>\n",
       "    </tr>\n",
       "    <tr>\n",
       "      <th>9</th>\n",
       "      <td>vim de havaiana pra faculdade e sem maquiagem,...</td>\n",
       "      <td>0</td>\n",
       "    </tr>\n",
       "  </tbody>\n",
       "</table>\n",
       "</div>"
      ],
      "text/plain": [
       "                                         Treinamento  Avaliacao\n",
       "0  @_satanislaw mds, pois tu deu sorte, ou entao ...          2\n",
       "1  queriaaaaaaaa comida havaiana meu deus vi uma ...          0\n",
       "2  minha tia comprou uma havaiana de glitter pra ...          1\n",
       "3  professor doido!!! amei \\nbrotou com camisa ha...          0\n",
       "4  me ajudem a comprar uma havaiana nova lsksk ht...          1\n",
       "5  fui no mercado comprar uma havaiana para mim, ...          1\n",
       "6   n posso ver uma havaiana nova q eu quero comprar          1\n",
       "7  rt @juuhbonfim_: eu não tô de havaiana na bala...          1\n",
       "8  acho que minha filha jogou no lixo a havaiana ...          2\n",
       "9  vim de havaiana pra faculdade e sem maquiagem,...          0"
      ]
     },
     "execution_count": 289,
     "metadata": {},
     "output_type": "execute_result"
    }
   ],
   "source": [
    "Trainer.head(10)"
   ]
  },
  {
   "cell_type": "markdown",
   "metadata": {},
   "source": [
    "___\n",
    "## Classificador automático de sentimento\n"
   ]
  },
  {
   "cell_type": "markdown",
   "metadata": {},
   "source": [
    "### Havaianas\n",
    "\n",
    "O produto escolhido pelo grupo foi a 'Havaianas'. Consideramos como relevante todos os tweets que mencionam diretamente satisfação, dissatisfação, qualidade ou apego emocional pela marca. O resto foi considerado irrelevante. \n",
    "Os tweets considerados relevantes são distribuidos entre duas categorias: A positiva('boa') e a negativa('ruim'), obedecendo o método classificatório mencionado anteriormente."
   ]
  },
  {
   "cell_type": "markdown",
   "metadata": {},
   "source": [
    "___\n",
    "### Montando um Classificador Naive-Bayes\n",
    "\n",
    "Considerando apenas as mensagens da planilha Treinamento, ensine  seu classificador."
   ]
  },
  {
   "cell_type": "code",
   "execution_count": 290,
   "metadata": {},
   "outputs": [],
   "source": [
    "#Limpando os tweets do database 'Treinamento' de acentos e pontuações\n",
    "Trainer['Treinamento'] = Trainer['Treinamento'].str.replace(',','')\n",
    "Trainer['Treinamento'] = Trainer['Treinamento'].str.replace(':','')\n",
    "Trainer['Treinamento'] = Trainer['Treinamento'].str.replace('|','')\n",
    "Trainer['Treinamento'] = Trainer['Treinamento'].str.replace('.','')\n",
    "Trainer['Treinamento'] = Trainer['Treinamento'].str.replace('\"','')\n",
    "Trainer['Treinamento'] = Trainer['Treinamento'].str.replace('”','')\n",
    "Trainer['Treinamento'] = Trainer['Treinamento'].str.replace('“','')\n",
    "Trainer['Treinamento'] = Trainer['Treinamento'].str.replace(';','')\n",
    "Trainer['Treinamento'] = Trainer['Treinamento'].str.replace('!',' !')\n",
    "Trainer['Treinamento'] = Trainer['Treinamento'].str.replace('?',' ?')\n",
    "Trainer['Treinamento'] = Trainer['Treinamento'].str.replace('(','')\n",
    "Trainer['Treinamento'] = Trainer['Treinamento'].str.replace('+','')\n",
    "Trainer['Treinamento'] = Trainer['Treinamento'].str.replace(')','')\n",
    "Trainer['Treinamento'] = Trainer['Treinamento'].str.replace('\\n','')\n",
    "Trainer['Treinamento'] = Trainer['Treinamento'].str.replace('/','') \n",
    "Trainer['Treinamento'] = Trainer['Treinamento'].str.replace('é','e')\n",
    "Trainer['Treinamento'] = Trainer['Treinamento'].str.replace('ê','e')\n",
    "Trainer['Treinamento'] = Trainer['Treinamento'].str.replace('á','a')\n",
    "Trainer['Treinamento'] = Trainer['Treinamento'].str.replace('ã','a')\n",
    "Trainer['Treinamento'] = Trainer['Treinamento'].str.replace('ô','o')\n",
    "Trainer['Treinamento'] = Trainer['Treinamento'].str.replace('ó','o')\n",
    "Trainer['Treinamento'] = Trainer['Treinamento'].str.replace('ú','u')\n",
    "Trainer['Treinamento'] = Trainer['Treinamento'].str.replace('ç','c')\n",
    "Trainer['Treinamento'] = Trainer['Treinamento'].str.replace('í','i')\n",
    "Trainer['Treinamento'] = Trainer['Treinamento'].str.strip()\n",
    "Trainer['Treinamento'] = Trainer['Treinamento'].str.lower()"
   ]
  },
  {
   "cell_type": "code",
   "execution_count": 291,
   "metadata": {},
   "outputs": [],
   "source": [
    "#emojis\n",
    "emoji = emoji_list.all_emoji\n",
    "for i in emoji:\n",
    "    try:\n",
    "        Trainer['Treinamento']= Trainer['Treinamento'].str.replace(i,\" {} \".format(i))\n",
    "    except:\n",
    "        pass"
   ]
  },
  {
   "cell_type": "code",
   "execution_count": 292,
   "metadata": {},
   "outputs": [
    {
     "data": {
      "text/html": [
       "<div>\n",
       "<style scoped>\n",
       "    .dataframe tbody tr th:only-of-type {\n",
       "        vertical-align: middle;\n",
       "    }\n",
       "\n",
       "    .dataframe tbody tr th {\n",
       "        vertical-align: top;\n",
       "    }\n",
       "\n",
       "    .dataframe thead th {\n",
       "        text-align: right;\n",
       "    }\n",
       "</style>\n",
       "<table border=\"1\" class=\"dataframe\">\n",
       "  <thead>\n",
       "    <tr style=\"text-align: right;\">\n",
       "      <th></th>\n",
       "      <th>Treinamento</th>\n",
       "      <th>Avaliacao</th>\n",
       "    </tr>\n",
       "  </thead>\n",
       "  <tbody>\n",
       "    <tr>\n",
       "      <th>0</th>\n",
       "      <td>@_satanislaw mds pois tu deu sorte ou entao e ...</td>\n",
       "      <td>2</td>\n",
       "    </tr>\n",
       "    <tr>\n",
       "      <th>1</th>\n",
       "      <td>queriaaaaaaaa comida havaiana meu deus vi uma ...</td>\n",
       "      <td>0</td>\n",
       "    </tr>\n",
       "    <tr>\n",
       "      <th>2</th>\n",
       "      <td>minha tia comprou uma havaiana de glitter pra ...</td>\n",
       "      <td>1</td>\n",
       "    </tr>\n",
       "    <tr>\n",
       "      <th>3</th>\n",
       "      <td>professor doido ! ! ! amei brotou com camisa h...</td>\n",
       "      <td>0</td>\n",
       "    </tr>\n",
       "    <tr>\n",
       "      <th>4</th>\n",
       "      <td>me ajudem a comprar uma havaiana nova lsksk ht...</td>\n",
       "      <td>1</td>\n",
       "    </tr>\n",
       "    <tr>\n",
       "      <th>5</th>\n",
       "      <td>fui no mercado comprar uma havaiana para mim n...</td>\n",
       "      <td>1</td>\n",
       "    </tr>\n",
       "    <tr>\n",
       "      <th>6</th>\n",
       "      <td>n posso ver uma havaiana nova q eu quero comprar</td>\n",
       "      <td>1</td>\n",
       "    </tr>\n",
       "    <tr>\n",
       "      <th>7</th>\n",
       "      <td>rt @juuhbonfim_ eu nao to de havaiana na balad...</td>\n",
       "      <td>1</td>\n",
       "    </tr>\n",
       "    <tr>\n",
       "      <th>8</th>\n",
       "      <td>acho que minha filha jogou no lixo a havaiana ...</td>\n",
       "      <td>2</td>\n",
       "    </tr>\n",
       "    <tr>\n",
       "      <th>9</th>\n",
       "      <td>vim de havaiana pra faculdade e sem maquiagem ...</td>\n",
       "      <td>0</td>\n",
       "    </tr>\n",
       "  </tbody>\n",
       "</table>\n",
       "</div>"
      ],
      "text/plain": [
       "                                         Treinamento  Avaliacao\n",
       "0  @_satanislaw mds pois tu deu sorte ou entao e ...          2\n",
       "1  queriaaaaaaaa comida havaiana meu deus vi uma ...          0\n",
       "2  minha tia comprou uma havaiana de glitter pra ...          1\n",
       "3  professor doido ! ! ! amei brotou com camisa h...          0\n",
       "4  me ajudem a comprar uma havaiana nova lsksk ht...          1\n",
       "5  fui no mercado comprar uma havaiana para mim n...          1\n",
       "6   n posso ver uma havaiana nova q eu quero comprar          1\n",
       "7  rt @juuhbonfim_ eu nao to de havaiana na balad...          1\n",
       "8  acho que minha filha jogou no lixo a havaiana ...          2\n",
       "9  vim de havaiana pra faculdade e sem maquiagem ...          0"
      ]
     },
     "execution_count": 292,
     "metadata": {},
     "output_type": "execute_result"
    }
   ],
   "source": [
    "Trainer.head(10)"
   ]
  },
  {
   "cell_type": "code",
   "execution_count": 293,
   "metadata": {},
   "outputs": [],
   "source": [
    "good = Trainer[Trainer.Avaliacao == 1]\n",
    "bad = Trainer[Trainer.Avaliacao == 2]\n",
    "matter_not = Trainer[Trainer.Avaliacao == 0]\n",
    "#variáveis"
   ]
  },
  {
   "cell_type": "code",
   "execution_count": 294,
   "metadata": {},
   "outputs": [
    {
     "data": {
      "text/plain": [
       "0       minha\n",
       "1         tia\n",
       "2     comprou\n",
       "3         uma\n",
       "4    havaiana\n",
       "5          de\n",
       "6     glitter\n",
       "7         pra\n",
       "8         mim\n",
       "9          af\n",
       "dtype: object"
      ]
     },
     "execution_count": 294,
     "metadata": {},
     "output_type": "execute_result"
    }
   ],
   "source": [
    "good1 = list(good['Treinamento'])\n",
    "gear1 = ' '.join(good1)\n",
    "good_clean = pd.Series(gear1.split())\n",
    "good_clean.head(10)\n",
    "#base limpa e separada"
   ]
  },
  {
   "cell_type": "code",
   "execution_count": 295,
   "metadata": {},
   "outputs": [
    {
     "data": {
      "text/plain": [
       "0    @_satanislaw\n",
       "1             mds\n",
       "2            pois\n",
       "3              tu\n",
       "4             deu\n",
       "5           sorte\n",
       "6              ou\n",
       "7           entao\n",
       "8               e\n",
       "9           minha\n",
       "dtype: object"
      ]
     },
     "execution_count": 295,
     "metadata": {},
     "output_type": "execute_result"
    }
   ],
   "source": [
    "bad1 = list(bad['Treinamento'])\n",
    "gear2 = ' '.join(bad1)\n",
    "bad_clean = pd.Series(gear2.split())\n",
    "bad_clean.head(10)"
   ]
  },
  {
   "cell_type": "code",
   "execution_count": 296,
   "metadata": {},
   "outputs": [
    {
     "data": {
      "text/plain": [
       "0    queriaaaaaaaa\n",
       "1           comida\n",
       "2         havaiana\n",
       "3              meu\n",
       "4             deus\n",
       "5               vi\n",
       "6              uma\n",
       "7        conhecida\n",
       "8           postar\n",
       "9               so\n",
       "dtype: object"
      ]
     },
     "execution_count": 296,
     "metadata": {},
     "output_type": "execute_result"
    }
   ],
   "source": [
    "matter_not1 = list(matter_not['Treinamento'])\n",
    "gear0 = ' '.join(matter_not1)\n",
    "irrel_clean = pd.Series(gear0.split())\n",
    "irrel_clean.head(10)"
   ]
  },
  {
   "cell_type": "code",
   "execution_count": 297,
   "metadata": {},
   "outputs": [
    {
     "data": {
      "text/plain": [
       "0    53.500000\n",
       "1    37.166667\n",
       "2     9.333333\n",
       "Name: Avaliacao, dtype: float64"
      ]
     },
     "execution_count": 297,
     "metadata": {},
     "output_type": "execute_result"
    }
   ],
   "source": [
    "Trainer.Avaliacao.value_counts(True) * 100\n",
    "#value_counts"
   ]
  },
  {
   "cell_type": "code",
   "execution_count": 299,
   "metadata": {},
   "outputs": [
    {
     "data": {
      "text/plain": [
       "de           0.028333\n",
       "havaianas    0.026939\n",
       "havaiana     0.026475\n",
       "e            0.023920\n",
       "uma          0.017185\n",
       "dtype: float64"
      ]
     },
     "execution_count": 299,
     "metadata": {},
     "output_type": "execute_result"
    }
   ],
   "source": [
    "value1 = good_clean.value_counts() + 1\n",
    "total1 = sum(value1)\n",
    "prob1 = (value1/total1)\n",
    "prob1.head()"
   ]
  },
  {
   "cell_type": "code",
   "execution_count": 300,
   "metadata": {},
   "outputs": [
    {
     "data": {
      "text/plain": [
       "e            0.029936\n",
       "de           0.029562\n",
       "havaianas    0.020207\n",
       "havaiana     0.018461\n",
       "a            0.013846\n",
       "dtype: float64"
      ]
     },
     "execution_count": 300,
     "metadata": {},
     "output_type": "execute_result"
    }
   ],
   "source": [
    "value0 = irrel_clean.value_counts() + 1\n",
    "total0 = sum(value0)\n",
    "prob0 = (value0/total0)\n",
    "prob0.head()"
   ]
  },
  {
   "cell_type": "code",
   "execution_count": 301,
   "metadata": {},
   "outputs": [
    {
     "data": {
      "text/plain": [
       "havaiana     0.027846\n",
       "a            0.026208\n",
       "e            0.020475\n",
       "havaianas    0.019656\n",
       "que          0.018018\n",
       "dtype: float64"
      ]
     },
     "execution_count": 301,
     "metadata": {},
     "output_type": "execute_result"
    }
   ],
   "source": [
    "value2 = bad_clean.value_counts() + 1\n",
    "total2 = sum(value2)\n",
    "prob2 = (value2/total2)\n",
    "prob2.head()"
   ]
  },
  {
   "cell_type": "code",
   "execution_count": 302,
   "metadata": {},
   "outputs": [],
   "source": [
    "cat_good = prob1.to_dict()\n",
    "cat_bad = prob2.to_dict()\n",
    "cat_irrel = prob0.to_dict()\n",
    "#dicionário"
   ]
  },
  {
   "cell_type": "markdown",
   "metadata": {},
   "source": [
    "___\n",
    "### Verificando a performance do Classificador\n",
    "\n",
    "Agora você deve testar o seu classificador com a base de Testes."
   ]
  },
  {
   "cell_type": "code",
   "execution_count": 303,
   "metadata": {},
   "outputs": [
    {
     "data": {
      "text/html": [
       "<div>\n",
       "<style scoped>\n",
       "    .dataframe tbody tr th:only-of-type {\n",
       "        vertical-align: middle;\n",
       "    }\n",
       "\n",
       "    .dataframe tbody tr th {\n",
       "        vertical-align: top;\n",
       "    }\n",
       "\n",
       "    .dataframe thead th {\n",
       "        text-align: right;\n",
       "    }\n",
       "</style>\n",
       "<table border=\"1\" class=\"dataframe\">\n",
       "  <thead>\n",
       "    <tr style=\"text-align: right;\">\n",
       "      <th></th>\n",
       "      <th>Teste</th>\n",
       "      <th>Avaliacao</th>\n",
       "    </tr>\n",
       "  </thead>\n",
       "  <tbody>\n",
       "    <tr>\n",
       "      <th>0</th>\n",
       "      <td>minha tia oq você tá fazendo de havaiana branc...</td>\n",
       "      <td>0</td>\n",
       "    </tr>\n",
       "    <tr>\n",
       "      <th>1</th>\n",
       "      <td>rt @farchacarol: +2 bem havaiana 🌺 https://t.c...</td>\n",
       "      <td>0</td>\n",
       "    </tr>\n",
       "    <tr>\n",
       "      <th>2</th>\n",
       "      <td>queria me sentir incluído pq todo mundo tá fal...</td>\n",
       "      <td>0</td>\n",
       "    </tr>\n",
       "    <tr>\n",
       "      <th>3</th>\n",
       "      <td>babu: a marcela falou lá no dia da havaiana \"p...</td>\n",
       "      <td>0</td>\n",
       "    </tr>\n",
       "    <tr>\n",
       "      <th>4</th>\n",
       "      <td>a havaiana kkkk https://t.co/pnow40stcp</td>\n",
       "      <td>0</td>\n",
       "    </tr>\n",
       "    <tr>\n",
       "      <th>5</th>\n",
       "      <td>nível de intimidade: athirson entra no quarto ...</td>\n",
       "      <td>0</td>\n",
       "    </tr>\n",
       "    <tr>\n",
       "      <th>6</th>\n",
       "      <td>indo de havaiana. favor não comentar</td>\n",
       "      <td>1</td>\n",
       "    </tr>\n",
       "    <tr>\n",
       "      <th>7</th>\n",
       "      <td>rt @merigiodiogo: não tem coisa mais estilo qu...</td>\n",
       "      <td>1</td>\n",
       "    </tr>\n",
       "    <tr>\n",
       "      <th>8</th>\n",
       "      <td>rt @portaltracklist: queria saber onde está o ...</td>\n",
       "      <td>0</td>\n",
       "    </tr>\n",
       "    <tr>\n",
       "      <th>9</th>\n",
       "      <td>meu pai estava vendo lilo e stitch na sala, aí...</td>\n",
       "      <td>0</td>\n",
       "    </tr>\n",
       "  </tbody>\n",
       "</table>\n",
       "</div>"
      ],
      "text/plain": [
       "                                               Teste  Avaliacao\n",
       "0  minha tia oq você tá fazendo de havaiana branc...          0\n",
       "1  rt @farchacarol: +2 bem havaiana 🌺 https://t.c...          0\n",
       "2  queria me sentir incluído pq todo mundo tá fal...          0\n",
       "3  babu: a marcela falou lá no dia da havaiana \"p...          0\n",
       "4            a havaiana kkkk https://t.co/pnow40stcp          0\n",
       "5  nível de intimidade: athirson entra no quarto ...          0\n",
       "6               indo de havaiana. favor não comentar          1\n",
       "7  rt @merigiodiogo: não tem coisa mais estilo qu...          1\n",
       "8  rt @portaltracklist: queria saber onde está o ...          0\n",
       "9  meu pai estava vendo lilo e stitch na sala, aí...          0"
      ]
     },
     "execution_count": 303,
     "metadata": {},
     "output_type": "execute_result"
    }
   ],
   "source": [
    "Test = pd.read_excel('Havaiana.xlsx','Teste')\n",
    "Test.head(10)"
   ]
  },
  {
   "cell_type": "code",
   "execution_count": 304,
   "metadata": {},
   "outputs": [],
   "source": [
    "Test['Teste'] = Test['Teste'].str.replace(',','')\n",
    "Test['Teste'] = Test['Teste'].str.replace(':','')\n",
    "Test['Teste'] = Test['Teste'].str.replace('|','')\n",
    "Test['Teste'] = Test['Teste'].str.replace('.','')\n",
    "Test['Teste'] = Test['Teste'].str.replace('\"','')\n",
    "Test['Teste'] = Test['Teste'].str.replace('”','')\n",
    "Test['Teste'] = Test['Teste'].str.replace('“','')\n",
    "Test['Teste'] = Test['Teste'].str.replace(';','')\n",
    "Test['Teste'] = Test['Teste'].str.replace('!',' !')\n",
    "Test['Teste'] = Test['Teste'].str.replace('?',' ?')\n",
    "Test['Teste'] = Test['Teste'].str.replace('(','')\n",
    "Test['Teste'] = Test['Teste'].str.replace('+','')\n",
    "Test['Teste'] = Test['Teste'].str.replace(')','')\n",
    "Test['Teste'] = Test['Teste'].str.replace('\\n','')\n",
    "Test['Teste'] = Test['Teste'].str.replace('/','') #\n",
    "Test['Teste'] = Test['Teste'].str.replace('é','e')\n",
    "Test['Teste'] = Test['Teste'].str.replace('ê','e')\n",
    "Test['Teste'] = Test['Teste'].str.replace('á','a')\n",
    "Test['Teste'] = Test['Teste'].str.replace('ã','a')\n",
    "Test['Teste'] = Test['Teste'].str.replace('ô','o')\n",
    "Test['Teste'] = Test['Teste'].str.replace('ó','o')\n",
    "Test['Teste'] = Test['Teste'].str.replace('ú','u')\n",
    "Test['Teste'] = Test['Teste'].str.replace('ç','c')\n",
    "Test['Teste'] = Test['Teste'].str.replace('í','i')\n",
    "Test['Teste'] = Test['Teste'].str.strip()\n",
    "Test['Teste'] = Test['Teste'].str.lower()"
   ]
  },
  {
   "cell_type": "code",
   "execution_count": 305,
   "metadata": {},
   "outputs": [],
   "source": [
    "emoji = emoji_list.all_emoji\n",
    "for i in emoji:\n",
    "    try:\n",
    "        Test['Teste']=Test['Teste'].str.replace(i,\" {} \".format(i))\n",
    "    except:\n",
    "        pass"
   ]
  },
  {
   "cell_type": "code",
   "execution_count": 306,
   "metadata": {},
   "outputs": [],
   "source": [
    "#montando o classificador\n",
    "lista0 = []\n",
    "\n",
    "freq_irrel=53.500000\n",
    "freq_good=37.166667\n",
    "freq_bad=9.333333\n",
    "\n",
    "\n",
    "def classifier(x):\n",
    "    \n",
    "    tweet = i.split()\n",
    "    a = 1\n",
    "    b = 1\n",
    "    c = 1\n",
    "    \n",
    "    for palavra in tweet:\n",
    "        \n",
    "        if palavra not in cat_good:\n",
    "            a *= 1/(total0 + total1 + total2)\n",
    "        else:\n",
    "            a *= cat_good[palavra]\n",
    "\n",
    "        if palavra not in cat_bad:\n",
    "            b *= 1/(total0 + total1 + total2)\n",
    "        else:\n",
    "            b *= cat_bad[palavra]\n",
    "        \n",
    "        if palavra not in cat_irrel:\n",
    "            c *= 1/(total0 + total1 + total2)\n",
    "        else:\n",
    "            c *= cat_irrel[palavra]\n",
    "\n",
    "\n",
    "    a1 = a * freq_good\n",
    "    b1 = b * freq_bad\n",
    "    c1 = c * freq_irrel\n",
    "    if a1 > b1 and a1 > c1:\n",
    "        return 1\n",
    "    if b1 > a1 and b1 > c1:\n",
    "        return 2\n",
    "    if c1 > a1 and c1 > b1:\n",
    "        return 0"
   ]
  },
  {
   "cell_type": "code",
   "execution_count": 307,
   "metadata": {},
   "outputs": [],
   "source": [
    "for i in Test.Teste:\n",
    "    lista0.append(classifier(Test.Teste))"
   ]
  },
  {
   "cell_type": "code",
   "execution_count": 308,
   "metadata": {},
   "outputs": [
    {
     "data": {
      "text/html": [
       "<div>\n",
       "<style scoped>\n",
       "    .dataframe tbody tr th:only-of-type {\n",
       "        vertical-align: middle;\n",
       "    }\n",
       "\n",
       "    .dataframe tbody tr th {\n",
       "        vertical-align: top;\n",
       "    }\n",
       "\n",
       "    .dataframe thead th {\n",
       "        text-align: right;\n",
       "    }\n",
       "</style>\n",
       "<table border=\"1\" class=\"dataframe\">\n",
       "  <thead>\n",
       "    <tr style=\"text-align: right;\">\n",
       "      <th></th>\n",
       "      <th>Teste</th>\n",
       "      <th>Avaliacao</th>\n",
       "      <th>Classificação</th>\n",
       "    </tr>\n",
       "  </thead>\n",
       "  <tbody>\n",
       "    <tr>\n",
       "      <th>0</th>\n",
       "      <td>minha tia oq voce ta fazendo de havaiana branc...</td>\n",
       "      <td>0</td>\n",
       "      <td>0</td>\n",
       "    </tr>\n",
       "    <tr>\n",
       "      <th>1</th>\n",
       "      <td>rt @farchacarol  2  bem havaiana  🌺  httpstcob...</td>\n",
       "      <td>0</td>\n",
       "      <td>0</td>\n",
       "    </tr>\n",
       "    <tr>\n",
       "      <th>2</th>\n",
       "      <td>queria me sentir incluido pq todo mundo ta fal...</td>\n",
       "      <td>0</td>\n",
       "      <td>0</td>\n",
       "    </tr>\n",
       "    <tr>\n",
       "      <th>3</th>\n",
       "      <td>babu a marcela falou la no dia da havaiana pq ...</td>\n",
       "      <td>0</td>\n",
       "      <td>0</td>\n",
       "    </tr>\n",
       "    <tr>\n",
       "      <th>4</th>\n",
       "      <td>a havaiana kkkk httpstcopnow 4  0 stcp</td>\n",
       "      <td>0</td>\n",
       "      <td>1</td>\n",
       "    </tr>\n",
       "    <tr>\n",
       "      <th>5</th>\n",
       "      <td>nivel de intimidade athirson entra no quarto q...</td>\n",
       "      <td>0</td>\n",
       "      <td>0</td>\n",
       "    </tr>\n",
       "    <tr>\n",
       "      <th>6</th>\n",
       "      <td>indo de havaiana favor nao comentar</td>\n",
       "      <td>1</td>\n",
       "      <td>1</td>\n",
       "    </tr>\n",
       "    <tr>\n",
       "      <th>7</th>\n",
       "      <td>rt @merigiodiogo nao tem coisa mais estilo que...</td>\n",
       "      <td>1</td>\n",
       "      <td>1</td>\n",
       "    </tr>\n",
       "    <tr>\n",
       "      <th>8</th>\n",
       "      <td>rt @portaltracklist queria saber onde esta o p...</td>\n",
       "      <td>0</td>\n",
       "      <td>0</td>\n",
       "    </tr>\n",
       "    <tr>\n",
       "      <th>9</th>\n",
       "      <td>meu pai estava vendo lilo e stitch na sala ai ...</td>\n",
       "      <td>0</td>\n",
       "      <td>0</td>\n",
       "    </tr>\n",
       "  </tbody>\n",
       "</table>\n",
       "</div>"
      ],
      "text/plain": [
       "                                               Teste  Avaliacao  Classificação\n",
       "0  minha tia oq voce ta fazendo de havaiana branc...          0              0\n",
       "1  rt @farchacarol  2  bem havaiana  🌺  httpstcob...          0              0\n",
       "2  queria me sentir incluido pq todo mundo ta fal...          0              0\n",
       "3  babu a marcela falou la no dia da havaiana pq ...          0              0\n",
       "4             a havaiana kkkk httpstcopnow 4  0 stcp          0              1\n",
       "5  nivel de intimidade athirson entra no quarto q...          0              0\n",
       "6                indo de havaiana favor nao comentar          1              1\n",
       "7  rt @merigiodiogo nao tem coisa mais estilo que...          1              1\n",
       "8  rt @portaltracklist queria saber onde esta o p...          0              0\n",
       "9  meu pai estava vendo lilo e stitch na sala ai ...          0              0"
      ]
     },
     "execution_count": 308,
     "metadata": {},
     "output_type": "execute_result"
    }
   ],
   "source": [
    "Test['Classificação'] = lista0\n",
    "Test.head(10)"
   ]
  },
  {
   "cell_type": "markdown",
   "metadata": {},
   "source": [
    "### Classificação dos resultados\n",
    "Uma avaliação verdadeira ocorre quando 'Avaliacao' e 'Classificação' encontram o mesmo resultado."
   ]
  },
  {
   "cell_type": "code",
   "execution_count": 309,
   "metadata": {},
   "outputs": [],
   "source": [
    "bv = 0\n",
    "bf = 0\n",
    "rv = 0\n",
    "rf = 0\n",
    "irv = 0\n",
    "irf = 0\n",
    "\n",
    "resultado_class = []"
   ]
  },
  {
   "cell_type": "code",
   "execution_count": 310,
   "metadata": {},
   "outputs": [],
   "source": [
    "#classificando os resultados\n",
    "for index in range(0,203):\n",
    "    if Test['Avaliacao'][index] == 1:\n",
    "        if Test['Classificação'][index] == 1:\n",
    "            resultado_class.append('Avaliação boa verdadeira')\n",
    "            bv += 1\n",
    "        if Test['Classificação'][index] == 2:\n",
    "            resultado_class.append('Avaliação ruim falsa')\n",
    "            rf += 1\n",
    "        if Test['Classificação'][index] == 0:\n",
    "            resultado_class.append('Avaliação irrelevante falsa')\n",
    "            irf += 1\n",
    "    if Test['Avaliacao'][index] == 2:\n",
    "        if Test['Classificação'][index] == 1:\n",
    "            resultado_class.append('Avaliação boa falsa')\n",
    "            bf += 1\n",
    "        if Test['Classificação'][index] == 2:\n",
    "            resultado_class.append('Avaliação ruim verdadeira')\n",
    "            rv += 1\n",
    "        if Test['Classificação'][index] == 0:\n",
    "            resultado_class.append('Avaliação irrelevante falsa')\n",
    "            irf += 1\n",
    "    if Test['Avaliacao'][index] == 0:\n",
    "        if Test['Classificação'][index] == 1:\n",
    "            resultado_class.append('Avaliação boa falsa')\n",
    "            bf += 1\n",
    "        if Test['Classificação'][index] == 2:\n",
    "            resultado_class.append('Avaliação ruim falsa')\n",
    "            rf += 1\n",
    "        if Test['Classificação'][index] == 0:\n",
    "            resultado_class.append('Avaliação irrelevante verdadeira')\n",
    "            irv += 1"
   ]
  },
  {
   "cell_type": "code",
   "execution_count": 311,
   "metadata": {},
   "outputs": [
    {
     "name": "stdout",
     "output_type": "stream",
     "text": [
      "Avaliação boa verdadeira : 61\n",
      "Avaliação boa falsa : 35\n",
      "Avaliação ruim verdadeira : 15\n",
      "Avaliação ruim falsa: 6\n",
      "Avaliação irrelevante verdadeira : 59\n",
      "Avaliação irrelevante falsa: 27\n"
     ]
    }
   ],
   "source": [
    "Test['Resultado'] = resultado_class   \n",
    "\n",
    "print('Avaliação boa verdadeira : {0}'.format(bv))\n",
    "print('Avaliação boa falsa : {0}'.format(bf))\n",
    "print('Avaliação ruim verdadeira : {0}'.format(rv))\n",
    "print('Avaliação ruim falsa: {0}'.format(rf))\n",
    "print('Avaliação irrelevante verdadeira : {0}'.format(irv))\n",
    "print('Avaliação irrelevante falsa: {0}'.format(irf))"
   ]
  },
  {
   "cell_type": "code",
   "execution_count": 312,
   "metadata": {},
   "outputs": [
    {
     "data": {
      "text/html": [
       "<div>\n",
       "<style scoped>\n",
       "    .dataframe tbody tr th:only-of-type {\n",
       "        vertical-align: middle;\n",
       "    }\n",
       "\n",
       "    .dataframe tbody tr th {\n",
       "        vertical-align: top;\n",
       "    }\n",
       "\n",
       "    .dataframe thead th {\n",
       "        text-align: right;\n",
       "    }\n",
       "</style>\n",
       "<table border=\"1\" class=\"dataframe\">\n",
       "  <thead>\n",
       "    <tr style=\"text-align: right;\">\n",
       "      <th></th>\n",
       "      <th>Teste</th>\n",
       "      <th>Avaliacao</th>\n",
       "      <th>Classificação</th>\n",
       "      <th>Resultado</th>\n",
       "    </tr>\n",
       "  </thead>\n",
       "  <tbody>\n",
       "    <tr>\n",
       "      <th>0</th>\n",
       "      <td>minha tia oq voce ta fazendo de havaiana branc...</td>\n",
       "      <td>0</td>\n",
       "      <td>0</td>\n",
       "      <td>Avaliação irrelevante verdadeira</td>\n",
       "    </tr>\n",
       "    <tr>\n",
       "      <th>1</th>\n",
       "      <td>rt @farchacarol  2  bem havaiana  🌺  httpstcob...</td>\n",
       "      <td>0</td>\n",
       "      <td>0</td>\n",
       "      <td>Avaliação irrelevante verdadeira</td>\n",
       "    </tr>\n",
       "    <tr>\n",
       "      <th>2</th>\n",
       "      <td>queria me sentir incluido pq todo mundo ta fal...</td>\n",
       "      <td>0</td>\n",
       "      <td>0</td>\n",
       "      <td>Avaliação irrelevante verdadeira</td>\n",
       "    </tr>\n",
       "    <tr>\n",
       "      <th>3</th>\n",
       "      <td>babu a marcela falou la no dia da havaiana pq ...</td>\n",
       "      <td>0</td>\n",
       "      <td>0</td>\n",
       "      <td>Avaliação irrelevante verdadeira</td>\n",
       "    </tr>\n",
       "    <tr>\n",
       "      <th>4</th>\n",
       "      <td>a havaiana kkkk httpstcopnow 4  0 stcp</td>\n",
       "      <td>0</td>\n",
       "      <td>1</td>\n",
       "      <td>Avaliação boa falsa</td>\n",
       "    </tr>\n",
       "    <tr>\n",
       "      <th>5</th>\n",
       "      <td>nivel de intimidade athirson entra no quarto q...</td>\n",
       "      <td>0</td>\n",
       "      <td>0</td>\n",
       "      <td>Avaliação irrelevante verdadeira</td>\n",
       "    </tr>\n",
       "    <tr>\n",
       "      <th>6</th>\n",
       "      <td>indo de havaiana favor nao comentar</td>\n",
       "      <td>1</td>\n",
       "      <td>1</td>\n",
       "      <td>Avaliação boa verdadeira</td>\n",
       "    </tr>\n",
       "    <tr>\n",
       "      <th>7</th>\n",
       "      <td>rt @merigiodiogo nao tem coisa mais estilo que...</td>\n",
       "      <td>1</td>\n",
       "      <td>1</td>\n",
       "      <td>Avaliação boa verdadeira</td>\n",
       "    </tr>\n",
       "    <tr>\n",
       "      <th>8</th>\n",
       "      <td>rt @portaltracklist queria saber onde esta o p...</td>\n",
       "      <td>0</td>\n",
       "      <td>0</td>\n",
       "      <td>Avaliação irrelevante verdadeira</td>\n",
       "    </tr>\n",
       "    <tr>\n",
       "      <th>9</th>\n",
       "      <td>meu pai estava vendo lilo e stitch na sala ai ...</td>\n",
       "      <td>0</td>\n",
       "      <td>0</td>\n",
       "      <td>Avaliação irrelevante verdadeira</td>\n",
       "    </tr>\n",
       "  </tbody>\n",
       "</table>\n",
       "</div>"
      ],
      "text/plain": [
       "                                               Teste  Avaliacao  \\\n",
       "0  minha tia oq voce ta fazendo de havaiana branc...          0   \n",
       "1  rt @farchacarol  2  bem havaiana  🌺  httpstcob...          0   \n",
       "2  queria me sentir incluido pq todo mundo ta fal...          0   \n",
       "3  babu a marcela falou la no dia da havaiana pq ...          0   \n",
       "4             a havaiana kkkk httpstcopnow 4  0 stcp          0   \n",
       "5  nivel de intimidade athirson entra no quarto q...          0   \n",
       "6                indo de havaiana favor nao comentar          1   \n",
       "7  rt @merigiodiogo nao tem coisa mais estilo que...          1   \n",
       "8  rt @portaltracklist queria saber onde esta o p...          0   \n",
       "9  meu pai estava vendo lilo e stitch na sala ai ...          0   \n",
       "\n",
       "   Classificação                         Resultado  \n",
       "0              0  Avaliação irrelevante verdadeira  \n",
       "1              0  Avaliação irrelevante verdadeira  \n",
       "2              0  Avaliação irrelevante verdadeira  \n",
       "3              0  Avaliação irrelevante verdadeira  \n",
       "4              1               Avaliação boa falsa  \n",
       "5              0  Avaliação irrelevante verdadeira  \n",
       "6              1          Avaliação boa verdadeira  \n",
       "7              1          Avaliação boa verdadeira  \n",
       "8              0  Avaliação irrelevante verdadeira  \n",
       "9              0  Avaliação irrelevante verdadeira  "
      ]
     },
     "execution_count": 312,
     "metadata": {},
     "output_type": "execute_result"
    }
   ],
   "source": [
    "Test.head(10)"
   ]
  },
  {
   "cell_type": "code",
   "execution_count": 313,
   "metadata": {},
   "outputs": [
    {
     "name": "stdout",
     "output_type": "stream",
     "text": [
      "RESULTADOS PERCENTUAIS\n",
      "----------------------\n",
      "Avaliação boa falsa                 17.241379\n",
      "Avaliação boa verdadeira            30.049261\n",
      "Avaliação irrelevante falsa         13.300493\n",
      "Avaliação irrelevante verdadeira    29.064039\n",
      "Avaliação ruim falsa                 2.955665\n",
      "Avaliação ruim verdadeira            7.389163\n",
      "Name: Resultado, dtype: float64\n"
     ]
    }
   ],
   "source": [
    "print('RESULTADOS PERCENTUAIS')\n",
    "print('----------------------')\n",
    "final_data = Test[\"Resultado\"].value_counts(normalize = True).sort_index()\n",
    "print(final_data*100)"
   ]
  },
  {
   "cell_type": "code",
   "execution_count": 314,
   "metadata": {},
   "outputs": [
    {
     "name": "stdout",
     "output_type": "stream",
     "text": [
      "A taxa de acerto do classificador (avaliações verdadeiras) é de 66.17647058823529 %\n"
     ]
    }
   ],
   "source": [
    "ecthelion = bv + rv + irv\n",
    "denethor = ecthelion/204*100\n",
    "print('A taxa de acerto do classificador (avaliações verdadeiras) é de', denethor,'%')"
   ]
  },
  {
   "cell_type": "markdown",
   "metadata": {},
   "source": [
    "___\n",
    "### Concluindo"
   ]
  },
  {
   "cell_type": "markdown",
   "metadata": {},
   "source": [
    "O produto 'Havaianas' é relativamente desafiador, uma vez que o nome da marca também possui o significado de algo proveniente do Havaí, como moda e culinária. Além disso, o produto é extremamente difundido na cultura popular brasileira, e a sua qualidade já não é amplamente discutida de forma direta. Assim, emergiram problemas como a alta taxa de tweets irrelevantes e a baixa porcentagem de tweets relevantes negativos.\n",
    "\n",
    "Com esta extrema difusão cultural das Havaianas, a grande maioria dos tweets discutiam a marca com linguagem extremamente coloquial, cômica, irônica e pessoal. Isso dificulta o processo de classificação da máquina, que tende a falhar em compreender o intuito dessas frases. \n",
    "\n",
    "Diante desses obstáculos, consideramos a taxa de acerto de 66.1% do classificador como razoável. Ainda que longe dos standards de aplicação comercial, o classificador concluiu corretamente uma parcela considerável dos tweets, principalmente na 'área cinza' que são os tweets irrelevantes. \n"
   ]
  },
  {
   "cell_type": "markdown",
   "metadata": {},
   "source": [
    "___\n",
    "## Aperfeiçoamento:\n",
    "\n",
    "Os trabalhos vão evoluir em conceito dependendo da quantidade de itens avançados:\n",
    "\n",
    "* Limpar: \\n, :, \", ', (, ), etc SEM remover emojis\n",
    "* Corrigir separação de espaços entre palavras e emojis ou entre emojis e emojis\n",
    "* Propor outras limpezas e transformações que não afetem a qualidade da informação ou classificação\n",
    "* Criar categorias intermediárias de relevância baseadas na probabilidade: ex.: muito relevante, relevante, neutro, irrelevante, muito irrelevante (3 categorias: C, mais categorias conta para B)\n",
    "* Explicar por que não posso usar o próprio classificador para gerar mais amostras de treinamento\n",
    "* Propor diferentes cenários para Naïve Bayes fora do contexto do projeto\n",
    "* Sugerir e explicar melhorias reais com indicações concretas de como implementar (indicar como fazer e indicar material de pesquisa)\n",
    "* Montar um dashboard que periodicamente realiza análise de sentimento e visualiza estes dados"
   ]
  },
  {
   "cell_type": "markdown",
   "metadata": {},
   "source": [
    "___\n",
    "## Referências"
   ]
  },
  {
   "cell_type": "markdown",
   "metadata": {},
   "source": [
    "[Naive Bayes and Text Classification](https://arxiv.org/pdf/1410.5329.pdf)  **Mais completo**\n",
    "\n",
    "[A practical explanation of a Naive Bayes Classifier](https://monkeylearn.com/blog/practical-explanation-naive-bayes-classifier/) **Mais simples**\n",
    "\n",
    "https://pypi.org/project/emoji/\n",
    "\n",
    "https://towardsdatascience.com/naive-bayes-classifier-81d512f50a7c"
   ]
  },
  {
   "cell_type": "code",
   "execution_count": null,
   "metadata": {},
   "outputs": [],
   "source": []
  }
 ],
 "metadata": {
  "kernelspec": {
   "display_name": "Python 3",
   "language": "python",
   "name": "python3"
  },
  "language_info": {
   "codemirror_mode": {
    "name": "ipython",
    "version": 3
   },
   "file_extension": ".py",
   "mimetype": "text/x-python",
   "name": "python",
   "nbconvert_exporter": "python",
   "pygments_lexer": "ipython3",
   "version": "3.7.1"
  }
 },
 "nbformat": 4,
 "nbformat_minor": 4
}
